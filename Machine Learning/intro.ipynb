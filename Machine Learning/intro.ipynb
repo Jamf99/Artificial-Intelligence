{
 "cells": [
  {
   "cell_type": "markdown",
   "metadata": {
    "colab_type": "text",
    "id": "R8vt5s5dKXyV"
   },
   "source": [
    "# Supervised learning\n",
    "\n",
    "Supervised learning is about finting a function **f** for which a set of data points **X** will map to  a response **Y**. These functions are usually found implementing *models* which vary widely in complexity.\n",
    "\n",
    "In order to demonstrate a simple application of machine learning, here we will implement a simple model called K-NN (k-nearest neighbors). This model finds a clas (or valur, in case of regression) looking at the k observations nearest to a new observation.\n",
    "\n",
    "The way we will find the best value of K is through cross-validation. Which consists of leaving out part of our data (as if we didn't have it), finding the best model for the training data, and then reintroducing our test data, trying to predict its target variable with our **trained** model and evaluating which K has the least error.\n",
    "\n",
    "In order to do this, we will generate some data with 3 classes."
   ]
  },
  {
   "cell_type": "code",
   "execution_count": 3,
   "metadata": {
    "colab": {
     "base_uri": "https://localhost:8080/",
     "height": 275
    },
    "colab_type": "code",
    "id": "UhJw0t5XKScC",
    "outputId": "47ec3d6f-422d-4f66-d144-5b89ff31192c"
   },
   "outputs": [
    {
     "name": "stdout",
     "output_type": "stream",
     "text": [
      "x     float64\n",
      "y     float64\n",
      "c    category\n",
      "dtype: object\n"
     ]
    },
    {
     "data": {
      "text/html": [
       "<div>\n",
       "<style scoped>\n",
       "    .dataframe tbody tr th:only-of-type {\n",
       "        vertical-align: middle;\n",
       "    }\n",
       "\n",
       "    .dataframe tbody tr th {\n",
       "        vertical-align: top;\n",
       "    }\n",
       "\n",
       "    .dataframe thead th {\n",
       "        text-align: right;\n",
       "    }\n",
       "</style>\n",
       "<table border=\"1\" class=\"dataframe\">\n",
       "  <thead>\n",
       "    <tr style=\"text-align: right;\">\n",
       "      <th></th>\n",
       "      <th>x</th>\n",
       "      <th>y</th>\n",
       "      <th>c</th>\n",
       "    </tr>\n",
       "  </thead>\n",
       "  <tbody>\n",
       "    <tr>\n",
       "      <th>0</th>\n",
       "      <td>22.655664</td>\n",
       "      <td>38.285366</td>\n",
       "      <td>1</td>\n",
       "    </tr>\n",
       "    <tr>\n",
       "      <th>1</th>\n",
       "      <td>25.342629</td>\n",
       "      <td>42.558871</td>\n",
       "      <td>1</td>\n",
       "    </tr>\n",
       "    <tr>\n",
       "      <th>2</th>\n",
       "      <td>22.036695</td>\n",
       "      <td>38.083618</td>\n",
       "      <td>1</td>\n",
       "    </tr>\n",
       "    <tr>\n",
       "      <th>3</th>\n",
       "      <td>17.638589</td>\n",
       "      <td>38.294051</td>\n",
       "      <td>1</td>\n",
       "    </tr>\n",
       "    <tr>\n",
       "      <th>4</th>\n",
       "      <td>20.403743</td>\n",
       "      <td>40.923502</td>\n",
       "      <td>1</td>\n",
       "    </tr>\n",
       "  </tbody>\n",
       "</table>\n",
       "</div>"
      ],
      "text/plain": [
       "           x          y  c\n",
       "0  22.655664  38.285366  1\n",
       "1  25.342629  42.558871  1\n",
       "2  22.036695  38.083618  1\n",
       "3  17.638589  38.294051  1\n",
       "4  20.403743  40.923502  1"
      ]
     },
     "execution_count": 3,
     "metadata": {},
     "output_type": "execute_result"
    }
   ],
   "source": [
    "import seaborn as sns\n",
    "import numpy as np\n",
    "import pandas as pd\n",
    "import random\n",
    "from sklearn.model_selection import train_test_split\n",
    "from sklearn.neighbors import KNeighborsClassifier\n",
    "\n",
    "n = 999\n",
    "\n",
    "x_c1 = np.random.normal(20, 2.5, int(n/3))\n",
    "y_c1 = np.random.normal(40, 2.5, int(n/3))\n",
    "c1 = np.repeat(\"1\", int(n/3))\n",
    "\n",
    "x_c2 = np.random.normal(30, 2.5, int(n/3))\n",
    "y_c2 = np.random.normal(45, 2.5, int(n/3))\n",
    "c2 = np.repeat(\"2\", int(n/3))\n",
    "\n",
    "x_c3 = np.random.normal(30, 2.5, int(n/3))\n",
    "y_c3 = np.random.normal(35, 2.5, int(n/3))\n",
    "c3 = np.repeat(\"3\", int(n/3))\n",
    "\n",
    "data = pd.DataFrame({\n",
    "    \"x\": np.concatenate((x_c1, x_c2, x_c3)),\n",
    "    \"y\": np.concatenate((y_c1, y_c2, y_c3)),\n",
    "    \"c\": np.concatenate((c1, c2, c3))\n",
    "})\n",
    "\n",
    "data.c = data.c.astype(\"category\")\n",
    "\n",
    "print(data.dtypes)\n",
    "data.head()"
   ]
  },
  {
   "cell_type": "markdown",
   "metadata": {
    "colab_type": "text",
    "id": "SqOTUCDgopdr"
   },
   "source": [
    "Here we can visualize the data in a **feature plot**, the color represents the class and the two axis are the predictors (features)."
   ]
  },
  {
   "cell_type": "markdown",
   "metadata": {
    "colab_type": "text",
    "id": "o9dP2ruySnRN"
   },
   "source": [
    "Visualizamos los datos:\n"
   ]
  },
  {
   "cell_type": "code",
   "execution_count": 4,
   "metadata": {
    "colab": {
     "base_uri": "https://localhost:8080/",
     "height": 291
    },
    "colab_type": "code",
    "id": "huiKkoQ_OCo3",
    "outputId": "61507fd1-879a-4dd5-9b9f-79beeb14b0ee"
   },
   "outputs": [
    {
     "data": {
      "image/png": "[encoded data removed]",
      "text/plain": [
       "<Figure size 432x288 with 1 Axes>"
      ]
     },
     "metadata": {
      "needs_background": "light"
     },
     "output_type": "display_data"
    }
   ],
   "source": [
    "_ = sns.scatterplot(x = \"x\", y = \"y\", data = data, hue = \"c\", palette=[\"r\", \"g\", \"b\"])"
   ]
  },
  {
   "cell_type": "markdown",
   "metadata": {
    "colab_type": "text",
    "id": "dJmEBWmIV5ap"
   },
   "source": [
    "In order to perform cross validation, we will take 20% of the data and put it in out test set."
   ]
  },
  {
   "cell_type": "code",
   "execution_count": 5,
   "metadata": {
    "colab": {},
    "colab_type": "code",
    "id": "p3-O14IsWF-p"
   },
   "outputs": [],
   "source": [
    "data_train_pred, data_test_pred, data_train_c, data_test_c = train_test_split(data.drop(\"c\", axis = 1), data.loc[:,[\"c\"]], test_size = 0.2)"
   ]
  },
  {
   "cell_type": "markdown",
   "metadata": {
    "colab_type": "text",
    "id": "S8ZpkLvmYzM2"
   },
   "source": [
    "Lets visualize the results of the splitting."
   ]
  },
  {
   "cell_type": "code",
   "execution_count": 6,
   "metadata": {
    "colab": {
     "base_uri": "https://localhost:8080/",
     "height": 275
    },
    "colab_type": "code",
    "id": "OPJI0PmZY2t-",
    "outputId": "a809eac9-643b-46fd-d562-0843fd9c3d02"
   },
   "outputs": [
    {
     "name": "stdout",
     "output_type": "stream",
     "text": [
      "Train X: 799\n",
      "Train Y: 799\n",
      "Test X: 200\n",
      "Test Y: 200\n"
     ]
    },
    {
     "data": {
      "text/html": [
       "<div>\n",
       "<style scoped>\n",
       "    .dataframe tbody tr th:only-of-type {\n",
       "        vertical-align: middle;\n",
       "    }\n",
       "\n",
       "    .dataframe tbody tr th {\n",
       "        vertical-align: top;\n",
       "    }\n",
       "\n",
       "    .dataframe thead th {\n",
       "        text-align: right;\n",
       "    }\n",
       "</style>\n",
       "<table border=\"1\" class=\"dataframe\">\n",
       "  <thead>\n",
       "    <tr style=\"text-align: right;\">\n",
       "      <th></th>\n",
       "      <th>x</th>\n",
       "      <th>y</th>\n",
       "    </tr>\n",
       "  </thead>\n",
       "  <tbody>\n",
       "    <tr>\n",
       "      <th>616</th>\n",
       "      <td>28.991927</td>\n",
       "      <td>43.364257</td>\n",
       "    </tr>\n",
       "    <tr>\n",
       "      <th>535</th>\n",
       "      <td>29.173884</td>\n",
       "      <td>43.883627</td>\n",
       "    </tr>\n",
       "    <tr>\n",
       "      <th>441</th>\n",
       "      <td>30.793898</td>\n",
       "      <td>44.842840</td>\n",
       "    </tr>\n",
       "    <tr>\n",
       "      <th>451</th>\n",
       "      <td>30.381004</td>\n",
       "      <td>41.120489</td>\n",
       "    </tr>\n",
       "    <tr>\n",
       "      <th>486</th>\n",
       "      <td>28.653808</td>\n",
       "      <td>41.610170</td>\n",
       "    </tr>\n",
       "  </tbody>\n",
       "</table>\n",
       "</div>"
      ],
      "text/plain": [
       "             x          y\n",
       "616  28.991927  43.364257\n",
       "535  29.173884  43.883627\n",
       "441  30.793898  44.842840\n",
       "451  30.381004  41.120489\n",
       "486  28.653808  41.610170"
      ]
     },
     "execution_count": 6,
     "metadata": {},
     "output_type": "execute_result"
    }
   ],
   "source": [
    "print(f\"Train X: {(len(data_train_pred))}\")\n",
    "print(f\"Train Y: {(len(data_train_c))}\")\n",
    "print(f\"Test X: {(len(data_test_pred))}\")\n",
    "print(f\"Test Y: {(len(data_test_c))}\")\n",
    "\n",
    "data_train_pred.head()"
   ]
  },
  {
   "cell_type": "markdown",
   "metadata": {
    "colab_type": "text",
    "id": "jYrZWCfmZ_d5"
   },
   "source": [
    "We test all the values of K possible and visualize the error!"
   ]
  },
  {
   "cell_type": "code",
   "execution_count": 8,
   "metadata": {
    "colab": {
     "base_uri": "https://localhost:8080/",
     "height": 291
    },
    "colab_type": "code",
    "id": "v2iINmfZa1dD",
    "outputId": "4696b1f0-6bba-4ff3-cb0f-0788347cfda1"
   },
   "outputs": [
    {
     "ename": "NameError",
     "evalue": "name 'LIGERAMENTE' is not defined",
     "output_type": "error",
     "traceback": [
      "\u001b[1;31m---------------------------------------------------------------------------\u001b[0m",
      "\u001b[1;31mNameError\u001b[0m                                 Traceback (most recent call last)",
      "\u001b[1;32m<ipython-input-8-0a835d8b4ff9>\u001b[0m in \u001b[0;36m<module>\u001b[1;34m\u001b[0m\n\u001b[0;32m      7\u001b[0m \u001b[1;33m\u001b[0m\u001b[0m\n\u001b[0;32m      8\u001b[0m     \u001b[0mk_error\u001b[0m\u001b[1;33m.\u001b[0m\u001b[0mappend\u001b[0m\u001b[1;33m(\u001b[0m\u001b[1;36m1\u001b[0m \u001b[1;33m-\u001b[0m \u001b[0mscore\u001b[0m\u001b[1;33m)\u001b[0m\u001b[1;33m\u001b[0m\u001b[1;33m\u001b[0m\u001b[0m\n\u001b[1;32m----> 9\u001b[1;33m \u001b[0mLIGERAMENTE\u001b[0m\u001b[1;33m\u001b[0m\u001b[1;33m\u001b[0m\u001b[0m\n\u001b[0m\u001b[0;32m     10\u001b[0m error_data = pd.DataFrame({\n\u001b[0;32m     11\u001b[0m     \u001b[1;34m\"k\"\u001b[0m\u001b[1;33m:\u001b[0m \u001b[0mks\u001b[0m\u001b[1;33m,\u001b[0m\u001b[1;33m\u001b[0m\u001b[1;33m\u001b[0m\u001b[0m\n",
      "\u001b[1;31mNameError\u001b[0m: name 'LIGERAMENTE' is not defined"
     ]
    }
   ],
   "source": [
    "ks = list(range(1, 700))\n",
    "k_error = []\n",
    "\n",
    "for k in ks:\n",
    "    model = KNeighborsClassifier(n_neighbors=k).fit(data_train_pred, data_train_c.values.ravel())\n",
    "    score = model.score(data_test_pred, data_test_c.values.ravel())\n",
    "\n",
    "    k_error.append(1 - score)\n",
    "\n",
    "error_data = pd.DataFrame({\n",
    "    \"k\": ks,\n",
    "    \"error\": k_error\n",
    "})\n",
    "\n",
    "_ = sns.lineplot(x = \"k\", y = \"error\", data = error_data)"
   ]
  },
  {
   "cell_type": "markdown",
   "metadata": {
    "colab_type": "text",
    "id": "Sku_9eZGr27w"
   },
   "source": [
    "In the end, we choose the largest value of K (a more general model) that gives the lowest error!"
   ]
  }
 ],
 "metadata": {
  "colab": {
   "collapsed_sections": [],
   "name": "intro.ipynb",
   "provenance": []
  },
  "kernelspec": {
   "display_name": "Python 3",
   "language": "python",
   "name": "python3"
  },
  "language_info": {
   "codemirror_mode": {
    "name": "ipython",
    "version": 3
   },
   "file_extension": ".py",
   "mimetype": "text/x-python",
   "name": "python",
   "nbconvert_exporter": "python",
   "pygments_lexer": "ipython3",
   "version": "3.7.3"
  }
 },
 "nbformat": 4,
 "nbformat_minor": 1
}

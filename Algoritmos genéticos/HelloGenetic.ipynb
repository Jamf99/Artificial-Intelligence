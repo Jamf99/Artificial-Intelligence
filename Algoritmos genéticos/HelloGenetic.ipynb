{
 "cells": [
  {
   "cell_type": "code",
   "execution_count": 23,
   "metadata": {},
   "outputs": [
    {
     "name": "stdout",
     "output_type": "stream",
     "text": [
      "[[',', 'o', 'P', 'K', 'E', 'M', 'V', 'l', '.', 'k', 'Z', 'X', 'J'], ['B', 'N', 'l', 'l', 'j', 'Z', ',', '!', 'Ñ', 'o', 's', 'M', 'v'], ['A', 'i', 'x', 'U', 'R', 'm', 'Q', 'j', 'T', 'E', 't', 'C', 'K'], ['c', 'w', 'e', 'P', ',', 'a', 'U', 'X', 'o', 'Q', 'q', 'h', 'S'], [',', 'U', 'r', 'ñ', '!', 'p', 'L', 'u', 'q', 'Q', 'B', 't', 'V']]\n"
     ]
    }
   ],
   "source": [
    "import random\n",
    "import math\n",
    "class HelloGenetic:\n",
    "    def __init__(self, params):\n",
    "        self.ALL_CHARACTERS = list(\"qwertyuiopasdfghjklñzxcvbnm,.!lQWERTYUIOPASDFGHJKLÑZXCVBNM\")\n",
    "        self.HELLO_WORLD = list(\"Hello, World!\")\n",
    "        self.params = params\n",
    "        self.specimen = [None] * params[\"generation_size\"]\n",
    "        \n",
    "        self.create_initital_population()\n",
    "        \n",
    "    def create_initital_population(self):\n",
    "        self.specimen = list(map(lambda _: random.sample(self.ALL_CHARACTERS, len(self.HELLO_WORLD)), self.specimen))\n",
    "    \n",
    "    def fitness(self, specimen):\n",
    "        return sum(1 for expected, actual in zip(self.HELLO_WORLD, specimen) if expected == actual) / len(self.HELLO_WORLD)\n",
    "    \n",
    "    def is_converged(self) :\n",
    "        if any(self.fitness(specimen) >= self.params[\"fit_threshold\"] for specimen in self.specimen) :\n",
    "            return True\n",
    "        return False\n",
    "    \n",
    "    def fitness_all(self):\n",
    "        return list(map(self.fitness, self.specimen))\n",
    "    \n",
    "    def mutate(self, specimen):\n",
    "        n_letters = int(self.params['mutation_percentage'] * (len(specimen) -1))\n",
    "        letter_indexes = random.sample(list(range(len(specimen))), n_letters)\n",
    "        \n",
    "        mutated = specimen[:]\n",
    "        \n",
    "        for idx in letter_indexes :\n",
    "            mutated[idx] = random.choice()\n",
    "    \n",
    "    def select_specimen(self, specimen_evaluations):\n",
    "        specimen_and_evaluations = list(zip(self.specimen, specimen_evaluations))\n",
    "        specimen_and_evaluations.sort(reverse = True, key=lambda e: e[1])\n",
    "        \n",
    "        n = params[\"select_top\"]\n",
    "        \n",
    "        return list(map(lambda e: e[0], specimen_and_evaluations[:n]))\n",
    "        \n",
    "    def generate_children(self, selected_specimen):\n",
    "        mutated_specimen = [None]*self.param['generatation_size']\n",
    "        \n",
    "        for i in range(len(muted_specimen)):\n",
    "            mutated_specimen[i] = self.mutate(random.choice(selected_specimen))\n",
    "            \n",
    "        return mutated_specimen\n",
    "        \n",
    "    def get_fit(self):\n",
    "        evaluations = self.fitness_all()\n",
    "        max_evaluation = max(evaluations)\n",
    "        max_index = evaluations.index(max_evaluation)\n",
    "        return self.specimen[max_index], max_evaluation\n",
    "    \n",
    "    def run(self):\n",
    "        generation_number = 1\n",
    "        while generation_number <= self.params[\"max_generations\"] and not self.is_converged() :\n",
    "            specimen_evaluations = self.fitness_all()\n",
    "            selected_specimen = self.selected_especimen(specimen_evaluations)\n",
    "            \n",
    "            self.specimen = self.generate_children(selected_specimen)   \n",
    "            \n",
    "            generation_number += 1\n",
    "        \n",
    "        return self.get_fit()\n"
   ]
  },
  {
   "cell_type": "code",
   "execution_count": null,
   "metadata": {},
   "outputs": [],
   "source": [
    "params = {\n",
    "    'max_generations':10,\n",
    "    'generation_size'10,\n",
    "    \"mutation_percentage\":0.1,\n",
    "    \"select_top\":0.1,\n",
    "    \"fit_threshold\":0.9\n",
    "}\n",
    "hello = HelloGenetic({\"generation_size\":5})\n",
    "print (hello.specimen)"
   ]
  }
 ],
 "metadata": {
  "kernelspec": {
   "display_name": "Python 3",
   "language": "python",
   "name": "python3"
  },
  "language_info": {
   "codemirror_mode": {
    "name": "ipython",
    "version": 3
   },
   "file_extension": ".py",
   "mimetype": "text/x-python",
   "name": "python",
   "nbconvert_exporter": "python",
   "pygments_lexer": "ipython3",
   "version": "3.7.3"
  }
 },
 "nbformat": 4,
 "nbformat_minor": 2
}

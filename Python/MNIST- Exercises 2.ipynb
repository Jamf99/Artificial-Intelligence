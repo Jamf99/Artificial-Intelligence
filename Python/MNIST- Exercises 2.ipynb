{
 "cells": [
  {
   "cell_type": "markdown",
   "metadata": {},
   "source": [
    "# MNIST (dígitos) solución tradicional\n",
    "\n",
    "__Integrantes:__\n",
    "\n",
    "+ Nombre: Jorge Antonio Morales Flórez\n",
    "+ Nombre: Alejandro Narvaez\n",
    "\n",
    "__Números asignados:__ 3\n"
   ]
  },
  {
   "cell_type": "markdown",
   "metadata": {},
   "source": [
    "## Taller \n",
    "\n",
    "_Suponga que trabajan para el desarrollo de un sistema de lectura y reconocimiento de dígitos. Para este trabajo le han proporcionado un conjunto de fotos en grises con el fin que proponga una solución de programación tradicional, es decir, sin el uso de la inteligencia artificial. El software que proponga debe tener la capacidad de determinar con una precisión una muestra de los datos que le han suministrado_\n",
    "\n",
    "Durante la clase se le proporcionaran dos números para trabajar:\n",
    "+ 1 y 5\n",
    "+ 8 y 2\n",
    "+ 9 y 7\n",
    "+ 0 y 3\n",
    "+ 4 y 6\n",
    "\n",
    "**Evaluación del método**\n",
    "\n",
    "Seleccione aleatoriamente una muestra de 30% de los datos, en donde se incluya un balance entre los dígitos asignados (despliéguelo y evidencie las cantidades).\n",
    "\n",
    "Utilice la muestra obtenida y evalué el software (proceso o métodos) que ha propuesto, es decir, a cuantos números acertó (VP) contra los que no acertó (FP), calcule los siguientes datos:\n",
    "\n",
    "```\n",
    "Para el primer número\n",
    "\n",
    "Reales =  número de datos\n",
    "\n",
    "Estimados = cantidad de dígitos estimados correctamente \n",
    "\n",
    "Para el segundo número\n",
    "\n",
    "Reales =  número de datos\n",
    "\n",
    "Estimados = cantidad de dígitos estimados correctamente\n",
    "```\n",
    "_Para todos los números que le corresponden_\n",
    "\n",
    "$ Precision = \\frac{VP}{VP+FP}$\n",
    "\n",
    "\n",
    "Finalmente, despliegue el tiempo que tomo todo el proceso de evaluación."
   ]
  },
  {
   "cell_type": "markdown",
   "metadata": {
    "heading_collapsed": true
   },
   "source": [
    "#### Entregas\n",
    "\n",
    "+ Prepare una presentación donde muestre los resultados\n",
    "+ Envié por un correo electrónico este archivo ipynb con la solución y resultados conseguidos\n"
   ]
  },
  {
   "cell_type": "markdown",
   "metadata": {},
   "source": [
    "#### Paquetes"
   ]
  },
  {
   "cell_type": "code",
   "execution_count": 6,
   "metadata": {},
   "outputs": [],
   "source": [
    "from sklearn.datasets import load_digits\n",
    "import pylab as pl\n",
    "import sklearn"
   ]
  },
  {
   "cell_type": "code",
   "execution_count": 7,
   "metadata": {},
   "outputs": [
    {
     "data": {
      "text/plain": [
       "sklearn.utils.Bunch"
      ]
     },
     "execution_count": 7,
     "metadata": {},
     "output_type": "execute_result"
    }
   ],
   "source": [
    "# cargamos los datos y desplegamos el objeto\n",
    "digits = load_digits()\n",
    "type(digits)"
   ]
  },
  {
   "cell_type": "code",
   "execution_count": 8,
   "metadata": {},
   "outputs": [],
   "source": [
    "# observe las propieades del objeto, ¿a que tipo se le parece?\n",
    "?sklearn.utils.Bunch"
   ]
  },
  {
   "cell_type": "code",
   "execution_count": 21,
   "metadata": {},
   "outputs": [
    {
     "name": "stdout",
     "output_type": "stream",
     "text": [
      "Se tienen en total: 1797 imágenes\n",
      "[[ 0.  0.  7. 15. 13.  1.  0.  0.]\n",
      " [ 0.  8. 13.  6. 15.  4.  0.  0.]\n",
      " [ 0.  2.  1. 13. 13.  0.  0.  0.]\n",
      " [ 0.  0.  2. 15. 11.  1.  0.  0.]\n",
      " [ 0.  0.  0.  1. 12. 12.  1.  0.]\n",
      " [ 0.  0.  0.  0.  1. 10.  8.  0.]\n",
      " [ 0.  0.  8.  4.  5. 14.  9.  0.]\n",
      " [ 0.  0.  7. 13. 13.  9.  0.  0.]]\n"
     ]
    },
    {
     "data": {
      "text/plain": [
       "<Figure size 432x288 with 0 Axes>"
      ]
     },
     "metadata": {},
     "output_type": "display_data"
    },
    {
     "data": {
      "image/png": "[encoded data removed]",
      "text/plain": [
       "<Figure size 288x288 with 1 Axes>"
      ]
     },
     "metadata": {
      "needs_background": "light"
     },
     "output_type": "display_data"
    }
   ],
   "source": [
    "pl.gray() # Queremos las imágenes en grises\n",
    "pl.matshow(digits.images[3]) # Imprimir una imagen dada\n",
    "numImagenes = len(digits.images) # Numero de imagenes, len es un método que provee el tamaño del arreglo\n",
    "print(\"Se tienen en total:\", numImagenes, \"imágenes\")\n",
    "print(digits.images[3]) # Ver su representación en pixeles"
   ]
  },
  {
   "cell_type": "markdown",
   "metadata": {},
   "source": [
    "Observe cada atributo del objeto digits, recorra cada imagen y obtenga su representación (_target_)"
   ]
  },
  {
   "cell_type": "markdown",
   "metadata": {
    "heading_collapsed": true
   },
   "source": [
    "#### Solución"
   ]
  },
  {
   "cell_type": "markdown",
   "metadata": {},
   "source": [
    "## 1. Definir muestras del 30% de la población de números tres y ceros"
   ]
  },
  {
   "cell_type": "code",
   "execution_count": 105,
   "metadata": {},
   "outputs": [
    {
     "name": "stdout",
     "output_type": "stream",
     "text": [
      "Arreglo de posiciones del número tres:\n",
      "\n",
      "[3, 13, 23, 45, 59, 60, 62, 63, 83, 89, 91, 98, 103, 133, 143, 153, 175, 189, 190, 192, 193, 213, 217, 219, 226, 231, 259, 269, 279, 301, 315, 316, 318, 319, 339, 345, 347, 354, 359, 385, 389, 399, 409, 431, 445, 446, 448, 449, 469, 475, 477, 484, 489, 519]\n",
      "\n",
      "Arreglo de posiciones del número cero:\n",
      "\n",
      "[0, 10, 20, 30, 36, 48, 49, 55, 72, 78, 79, 101, 126, 130, 140, 150, 160, 166, 178, 179, 185, 202, 208, 209, 229, 252, 256, 266, 276, 286, 292, 304, 305, 311, 328, 334, 335, 357, 382, 386, 396, 406, 416, 422, 434, 435, 441, 458, 464, 465, 487, 512, 516]\n"
     ]
    }
   ],
   "source": [
    "def totalTres() :\n",
    "    list = []\n",
    "    counter = 0\n",
    "    for i in digits.target :\n",
    "        if(i == 3) :\n",
    "            list.append(counter)\n",
    "        counter+=1\n",
    "    return list\n",
    "\n",
    "def muestraTres():\n",
    "    list = []\n",
    "    counter = 0\n",
    "    for i in digits.target :\n",
    "        if(i == 3) :\n",
    "            list.append(counter)\n",
    "        counter+=1\n",
    "    newList = list[0 : int(len(list)*0.3)]\n",
    "    return newList\n",
    "\n",
    "def muestraCero() :\n",
    "    list = []\n",
    "    counter = 0\n",
    "    for i in digits.target :\n",
    "        if(i == 0) :\n",
    "            list.append(counter)\n",
    "        counter+=1\n",
    "    newList = list[0 : int(len(list)*0.3)]\n",
    "    return newList\n",
    "\n",
    "print ('Arreglo de posiciones del número tres:\\n')\n",
    "print (muestraTres())\n",
    "print()\n",
    "print ('Arreglo de posiciones del número cero:\\n')\n",
    "print (muestraCero())"
   ]
  },
  {
   "cell_type": "markdown",
   "metadata": {},
   "source": [
    "## 2. Desarrollo de los métodos encargados de validar las muestras y decidir si el número dado es un tres o un cero"
   ]
  },
  {
   "cell_type": "code",
   "execution_count": 108,
   "metadata": {},
   "outputs": [],
   "source": [
    "def metodoNumTres(matriz) :\n",
    "    contador = 0\n",
    "    resultado = False\n",
    "    if((matriz[0][1] + matriz[0][6]) <= 6):\n",
    "        contador = contador + 1\n",
    "    if((matriz[1][1] + matriz[1][6]) <= 7):\n",
    "        contador = contador + 1\n",
    "    if((matriz[2][1] + matriz[2][2] + matriz[2][6]) <= 10):\n",
    "        contador = contador + 1\n",
    "    if((matriz[3][1] + matriz[3][2] + matriz[3][6]) <= 10):\n",
    "        contador = contador + 1\n",
    "    if((matriz[4][1] + matriz[4][2] + matriz[4][3]) <= 7):\n",
    "        contador = contador + 1\n",
    "    if((matriz[5][1] + matriz[5][2] + matriz[5][3]) + matriz[5][4] <= 3):\n",
    "        contador = contador + 1\n",
    "    if((matriz[6][1]) <= 5):\n",
    "        contador = contador + 1\n",
    "    if((matriz[7][1] + matriz[7][6]) <= 6):\n",
    "        contador = contador + 1\n",
    "\n",
    "    if(contador >= 7):\n",
    "        resultado = True\n",
    "    return resultado\n",
    "        \n",
    "def metodoNumCero(arreglo) :\n",
    "    print ('Ipa & Paola')\n"
   ]
  },
  {
   "cell_type": "markdown",
   "metadata": {},
   "source": [
    "#### Resultados para el número 3 (muestra del 30%)"
   ]
  },
  {
   "cell_type": "code",
   "execution_count": 109,
   "metadata": {
    "scrolled": true
   },
   "outputs": [
    {
     "name": "stdout",
     "output_type": "stream",
     "text": [
      "VP : 27\n",
      "VF : 27\n",
      "Reales : 54\n",
      "Precisión : 50.00 %\n"
     ]
    }
   ],
   "source": [
    "VP = 0\n",
    "VF = 0\n",
    "for i in muestraTres() :\n",
    "    if(metodoNumTres(digits.images[i]) == True):\n",
    "        VP = VP + 1\n",
    "    else :\n",
    "        VF = VF + 1\n",
    "print('VP : {}'.format(VP))\n",
    "print('VF : {}'.format(VF))\n",
    "print('Reales : {}'.format(len(muestraTres())))\n",
    "print('Precisión : {0:.2f} %'.format((VP/(VP+VF))*100))"
   ]
  },
  {
   "cell_type": "markdown",
   "metadata": {},
   "source": [
    "#### Resultados para el número 3 (100% de los números Tres)"
   ]
  },
  {
   "cell_type": "code",
   "execution_count": 110,
   "metadata": {
    "scrolled": true
   },
   "outputs": [
    {
     "name": "stdout",
     "output_type": "stream",
     "text": [
      "VP : 83\n",
      "VF : 100\n",
      "Reales : 183\n",
      "Precisión : 45.36 %\n"
     ]
    }
   ],
   "source": [
    "VP = 0\n",
    "VF = 0\n",
    "for i in totalTres() :\n",
    "    if(metodoNumTres(digits.images[i]) == True):\n",
    "        VP = VP + 1\n",
    "    else :\n",
    "        VF = VF + 1\n",
    "print('VP : {}'.format(VP))\n",
    "print('VF : {}'.format(VF))\n",
    "print('Reales : {}'.format(len(totalTres())))\n",
    "print('Precisión : {0:.2f} %'.format((VP/(VP+VF))*100))"
   ]
  },
  {
   "cell_type": "markdown",
   "metadata": {},
   "source": [
    "#### Resultados para el número 3 (todos los datos)"
   ]
  },
  {
   "cell_type": "code",
   "execution_count": 125,
   "metadata": {},
   "outputs": [
    {
     "name": "stdout",
     "output_type": "stream",
     "text": [
      "VP : 1664\n",
      "VF : 133\n",
      "Reales : 1797\n",
      "Precisión : 92.60 %\n"
     ]
    }
   ],
   "source": [
    "def pertenece(numero) :\n",
    "    for i in totalTres() :\n",
    "        if(i == numero) :\n",
    "            return True\n",
    "    return False\n",
    "\n",
    "VP = 0\n",
    "VF = 0\n",
    "for i in range(0, len(digits.images)) :\n",
    "    if(pertenece(i)) :\n",
    "        if(metodoNumTres(digits.images[i]) == True):\n",
    "            VP = VP + 1\n",
    "        else :\n",
    "            VF = VF + 1\n",
    "    else :\n",
    "        if(metodoNumTres(digits.images[i]) == True):\n",
    "            VF = VF + 1\n",
    "        else :\n",
    "            VP = VP + 1\n",
    "print('VP : {}'.format(VP))\n",
    "print('VF : {}'.format(VF))\n",
    "print('Reales : {}'.format(len(digits.images)))\n",
    "print('Precisión : {0:.2f} %'.format((VP/(VP+VF))*100))"
   ]
  }
 ],
 "metadata": {
  "kernelspec": {
   "display_name": "Python 3",
   "language": "python",
   "name": "python3"
  },
  "language_info": {
   "codemirror_mode": {
    "name": "ipython",
    "version": 3
   },
   "file_extension": ".py",
   "mimetype": "text/x-python",
   "name": "python",
   "nbconvert_exporter": "python",
   "pygments_lexer": "ipython3",
   "version": "3.7.3"
  }
 },
 "nbformat": 4,
 "nbformat_minor": 2
}

{
 "cells": [
  {
   "cell_type": "markdown",
   "metadata": {},
   "source": [
    "# Python Exercises, practice  \n",
    "\n",
    "\n",
    "+ __Student 1:__ Jorge Antonio Morales \n",
    "+ __Student 2:__ Alejandra Narvaez"
   ]
  },
  {
   "cell_type": "markdown",
   "metadata": {},
   "source": [
    "__1 exercise__\n",
    "\n",
    "print hello world"
   ]
  },
  {
   "cell_type": "code",
   "execution_count": 1,
   "metadata": {},
   "outputs": [
    {
     "name": "stdout",
     "output_type": "stream",
     "text": [
      "Hello World\n"
     ]
    }
   ],
   "source": [
    "print (\"Hello World\")"
   ]
  },
  {
   "cell_type": "markdown",
   "metadata": {},
   "source": [
    "__2 exercise__\n",
    "\n",
    "Let's create a variable with the name _variable_ and assign it the value \"hello world\"."
   ]
  },
  {
   "cell_type": "code",
   "execution_count": 2,
   "metadata": {},
   "outputs": [],
   "source": [
    "variable = \"hello world\""
   ]
  },
  {
   "cell_type": "markdown",
   "metadata": {},
   "source": [
    "__3 exercise__\n",
    "\n",
    "Print the type of _variable_"
   ]
  },
  {
   "cell_type": "code",
   "execution_count": 5,
   "metadata": {},
   "outputs": [
    {
     "name": "stdout",
     "output_type": "stream",
     "text": [
      "<class 'str'>\n"
     ]
    }
   ],
   "source": [
    "print (type(variable))"
   ]
  },
  {
   "cell_type": "markdown",
   "metadata": {},
   "source": [
    "__4 exercise__\n",
    "\n",
    "Let's remove the word \" world\" from _variable_"
   ]
  },
  {
   "cell_type": "code",
   "execution_count": 10,
   "metadata": {},
   "outputs": [
    {
     "data": {
      "text/plain": [
       "'hello'"
      ]
     },
     "execution_count": 10,
     "metadata": {},
     "output_type": "execute_result"
    }
   ],
   "source": [
    "variable.replace(\" world\", \"\")"
   ]
  },
  {
   "cell_type": "markdown",
   "metadata": {},
   "source": [
    "__5 exercise__\n",
    "\n",
    "Let's make a function which receives a list of number from 1 to 20 and prints only the number that are odd."
   ]
  },
  {
   "cell_type": "code",
   "execution_count": 22,
   "metadata": {},
   "outputs": [
    {
     "name": "stdout",
     "output_type": "stream",
     "text": [
      "[1, 3, 5, 7, 9, 11, 13, 15, 17, 19]\n"
     ]
    }
   ],
   "source": [
    "lista = [1,2,3,4,5,6,7,8,9,10,11,12,13,14,15,16,17,18,19,20]\n",
    "def odd(lista) :\n",
    "    for i in lista :\n",
    "        if(i % 2 == 0) :\n",
    "            lista.remove(i)\n",
    "\n",
    "odd(lista)\n",
    "print (lista)"
   ]
  },
  {
   "cell_type": "markdown",
   "metadata": {},
   "source": [
    "__6 exercise__\n",
    "\n",
    "Let's make a method in a Python file which receives two parameters:\n",
    "\n",
    "+ A list of integers \n",
    "+ An exponent number \n",
    "\n",
    "$b^{n} = b \\times \\dots \\times b$  \n",
    "\n",
    "The method allows us to calculate the exponentiation of each number in the list.\n",
    "\n",
    "We must import the file and use it to call the method"
   ]
  },
  {
   "cell_type": "code",
   "execution_count": 16,
   "metadata": {},
   "outputs": [
    {
     "name": "stdout",
     "output_type": "stream",
     "text": [
      "[27.0, 64.0, 216.0, 27.0]\n"
     ]
    }
   ],
   "source": [
    "import math\n",
    "\n",
    "list = [3, 4, 6, 3]\n",
    "def calculate_exponentiation(list, exponent_number) :\n",
    "    counter = 0\n",
    "    for i in list :\n",
    "        list[counter] = math.pow(i, exponent_number)\n",
    "        counter+=1\n",
    "\n",
    "calculate_exponentiation(list, 3)\n",
    "print (list)"
   ]
  },
  {
   "cell_type": "markdown",
   "metadata": {},
   "source": [
    "__7 exercise__\n",
    "\n",
    "The idea is to do a dictionary _diccionario_ with the next keys and values:\n",
    "\n",
    "_variableUno_: [1,2,3,4]\n",
    "\n",
    "_variableDos_: [\"1\",\"a\",\"?\"]\n"
   ]
  },
  {
   "cell_type": "code",
   "execution_count": 19,
   "metadata": {},
   "outputs": [
    {
     "name": "stdout",
     "output_type": "stream",
     "text": [
      "{'_variableUno_': [1, 2, 3, 4], '_variableDos_': ['1', 'a', '?']}\n"
     ]
    }
   ],
   "source": [
    "diccionario = {'_variableUno_':[1,2,3,4], '_variableDos_':[\"1\",\"a\",\"?\"]}\n",
    "print (diccionario)"
   ]
  },
  {
   "cell_type": "markdown",
   "metadata": {},
   "source": [
    "__8 exercise__\n",
    "\n",
    "Change the first letter of \"Spam\" to \"z\" "
   ]
  },
  {
   "cell_type": "code",
   "execution_count": 32,
   "metadata": {},
   "outputs": [
    {
     "name": "stdout",
     "output_type": "stream",
     "text": [
      "Zpam\n"
     ]
    }
   ],
   "source": [
    "word = \"Spam\"\n",
    "word = word.replace(\"S\",\"Z\")\n",
    "print (word)"
   ]
  },
  {
   "cell_type": "markdown",
   "metadata": {},
   "source": [
    "__9 exercise__\n",
    "\n",
    "let's do a program which receives some parameters in order to calculate the perimeter of a rectangle.\n",
    "\n",
    "$p = 2x + 2y$"
   ]
  },
  {
   "cell_type": "code",
   "execution_count": 39,
   "metadata": {},
   "outputs": [
    {
     "name": "stdout",
     "output_type": "stream",
     "text": [
      "8\n"
     ]
    }
   ],
   "source": [
    "def calculatePerimeter(x,y) :\n",
    "    return 2*x+2*y\n",
    "\n",
    "print (calculatePerimeter(2,2))"
   ]
  },
  {
   "cell_type": "markdown",
   "metadata": {},
   "source": [
    "__10 exercise__\n",
    "\n",
    "+ Create a class that saves the name of a person, his height in meters and weights in kilograms.\n",
    "+ This class must have a operation which calculate the Body mass index (BMI).\n",
    "+ Define a list of 5 persons and print their BMI. "
   ]
  },
  {
   "cell_type": "code",
   "execution_count": 59,
   "metadata": {},
   "outputs": [
    {
     "name": "stdout",
     "output_type": "stream",
     "text": [
      "La persona con nombre Jorge tiene un BMI de 0.05\n",
      "La persona con nombre Ipa tiene un BMI de 0.016666666666666666\n",
      "La persona con nombre Pachito tiene un BMI de 0.00625\n",
      "La persona con nombre Sarna tiene un BMI de 0.035555555555555556\n",
      "La persona con nombre Larvo tiene un BMI de 0.3\n"
     ]
    }
   ],
   "source": [
    "import math\n",
    "class Person(object) :\n",
    "    \n",
    "    def __init__(self, name, height, weight) :\n",
    "        self.name = name;\n",
    "        self.height = height;\n",
    "        self.weight = weight;\n",
    "    \n",
    "    def calculateBMI(self) :\n",
    "        return self.weight/math.pow(self.height, 2)\n",
    "\n",
    "list = [Person(\"Jorge\", 20, 20), Person(\"Ipa\", 30, 15), Person(\"Pachito\", 40, 10), Person(\"Sarna\", 30, 32), Person(\"Larvo\", 10, 30)]\n",
    "\n",
    "for i in list :\n",
    "    print ('La persona con nombre {} tiene un BMI de {}'.format(i.name, i.calculateBMI()))"
   ]
  },
  {
   "cell_type": "markdown",
   "metadata": {},
   "source": [
    "__11 exercise__\n",
    "\n",
    "make a program that prints the numbers from 1 to 100\n",
    "If the number is divisible by 2 then print \"whiz\"\n",
    "if the number is divisible by 3 then print \"bang\""
   ]
  },
  {
   "cell_type": "code",
   "execution_count": 66,
   "metadata": {},
   "outputs": [
    {
     "name": "stdout",
     "output_type": "stream",
     "text": [
      "whiz / 1 / whiz / bang / whiz / 5 / whiz / 7 / whiz / bang / whiz / 11 / whiz / 13 / whiz / bang / whiz / 17 / whiz / 19 / whiz / bang / whiz / 23 / whiz / 25 / whiz / bang / whiz / 29 / whiz / 31 / whiz / bang / whiz / 35 / whiz / 37 / whiz / bang / whiz / 41 / whiz / 43 / whiz / bang / whiz / 47 / whiz / 49 / whiz / bang / whiz / 53 / whiz / 55 / whiz / bang / whiz / 59 / whiz / 61 / whiz / bang / whiz / 65 / whiz / 67 / whiz / bang / whiz / 71 / whiz / 73 / whiz / bang / whiz / 77 / whiz / 79 / whiz / bang / whiz / 83 / whiz / 85 / whiz / bang / whiz / 89 / whiz / 91 / whiz / bang / whiz / 95 / whiz / 97 / whiz / bang / whiz / "
     ]
    }
   ],
   "source": [
    "for i in range(0, 101) :\n",
    "    if(i % 2 == 0) :\n",
    "        print (\"whiz\", end=\" / \")\n",
    "    elif( i % 3 == 0) :\n",
    "        print (\"bang\", end=\" / \")\n",
    "    else :\n",
    "        print (i, end=\" / \")"
   ]
  }
 ],
 "metadata": {
  "kernelspec": {
   "display_name": "Python 3",
   "language": "python",
   "name": "python3"
  },
  "language_info": {
   "codemirror_mode": {
    "name": "ipython",
    "version": 3
   },
   "file_extension": ".py",
   "mimetype": "text/x-python",
   "name": "python",
   "nbconvert_exporter": "python",
   "pygments_lexer": "ipython3",
   "version": "3.7.3"
  }
 },
 "nbformat": 4,
 "nbformat_minor": 2
}
